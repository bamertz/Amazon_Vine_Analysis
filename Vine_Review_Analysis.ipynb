{
 "cells": [
  {
   "cell_type": "code",
   "execution_count": 1,
   "id": "89e5229c",
   "metadata": {},
   "outputs": [],
   "source": [
    "import pandas as pd\n",
    "import matplotlib.pyplot as plt"
   ]
  },
  {
   "cell_type": "code",
   "execution_count": 5,
   "id": "31a6049a",
   "metadata": {},
   "outputs": [
    {
     "data": {
      "text/html": [
       "<div>\n",
       "<style scoped>\n",
       "    .dataframe tbody tr th:only-of-type {\n",
       "        vertical-align: middle;\n",
       "    }\n",
       "\n",
       "    .dataframe tbody tr th {\n",
       "        vertical-align: top;\n",
       "    }\n",
       "\n",
       "    .dataframe thead th {\n",
       "        text-align: right;\n",
       "    }\n",
       "</style>\n",
       "<table border=\"1\" class=\"dataframe\">\n",
       "  <thead>\n",
       "    <tr style=\"text-align: right;\">\n",
       "      <th></th>\n",
       "      <th>review_id</th>\n",
       "      <th>star_rating</th>\n",
       "      <th>helpful_votes</th>\n",
       "      <th>total_votes</th>\n",
       "      <th>vine</th>\n",
       "      <th>verified_purchase</th>\n",
       "    </tr>\n",
       "  </thead>\n",
       "  <tbody>\n",
       "    <tr>\n",
       "      <th>0</th>\n",
       "      <td>R215C9BDXTDQOW</td>\n",
       "      <td>4.0</td>\n",
       "      <td>0.0</td>\n",
       "      <td>0.0</td>\n",
       "      <td>N</td>\n",
       "      <td>Y</td>\n",
       "    </tr>\n",
       "    <tr>\n",
       "      <th>1</th>\n",
       "      <td>R1DTPUV1J57YHA</td>\n",
       "      <td>5.0</td>\n",
       "      <td>0.0</td>\n",
       "      <td>0.0</td>\n",
       "      <td>N</td>\n",
       "      <td>Y</td>\n",
       "    </tr>\n",
       "    <tr>\n",
       "      <th>2</th>\n",
       "      <td>RFAZK5EWKJWOU</td>\n",
       "      <td>5.0</td>\n",
       "      <td>0.0</td>\n",
       "      <td>0.0</td>\n",
       "      <td>N</td>\n",
       "      <td>Y</td>\n",
       "    </tr>\n",
       "    <tr>\n",
       "      <th>3</th>\n",
       "      <td>R2XT8X0O0WS1AL</td>\n",
       "      <td>5.0</td>\n",
       "      <td>0.0</td>\n",
       "      <td>0.0</td>\n",
       "      <td>N</td>\n",
       "      <td>Y</td>\n",
       "    </tr>\n",
       "    <tr>\n",
       "      <th>4</th>\n",
       "      <td>R14GRNANKO2Y2J</td>\n",
       "      <td>5.0</td>\n",
       "      <td>0.0</td>\n",
       "      <td>0.0</td>\n",
       "      <td>N</td>\n",
       "      <td>Y</td>\n",
       "    </tr>\n",
       "  </tbody>\n",
       "</table>\n",
       "</div>"
      ],
      "text/plain": [
       "        review_id  star_rating  helpful_votes  total_votes vine  \\\n",
       "0  R215C9BDXTDQOW          4.0            0.0          0.0    N   \n",
       "1  R1DTPUV1J57YHA          5.0            0.0          0.0    N   \n",
       "2   RFAZK5EWKJWOU          5.0            0.0          0.0    N   \n",
       "3  R2XT8X0O0WS1AL          5.0            0.0          0.0    N   \n",
       "4  R14GRNANKO2Y2J          5.0            0.0          0.0    N   \n",
       "\n",
       "  verified_purchase  \n",
       "0                 Y  \n",
       "1                 Y  \n",
       "2                 Y  \n",
       "3                 Y  \n",
       "4                 Y  "
      ]
     },
     "execution_count": 5,
     "metadata": {},
     "output_type": "execute_result"
    }
   ],
   "source": [
    "vine_df = pd.read_csv('vine_table.csv')\n",
    "vine_df.head()"
   ]
  },
  {
   "cell_type": "code",
   "execution_count": 6,
   "id": "71afb851",
   "metadata": {},
   "outputs": [
    {
     "data": {
      "text/plain": [
       "2634781"
      ]
     },
     "execution_count": 6,
     "metadata": {},
     "output_type": "execute_result"
    }
   ],
   "source": [
    "countreviews = len(vine_df)\n",
    "countreviews"
   ]
  },
  {
   "cell_type": "markdown",
   "id": "d4a1bcbc",
   "metadata": {},
   "source": [
    "Filter data to only show helpful reviews"
   ]
  },
  {
   "cell_type": "code",
   "execution_count": 7,
   "id": "93511905",
   "metadata": {},
   "outputs": [
    {
     "data": {
      "text/html": [
       "<div>\n",
       "<style scoped>\n",
       "    .dataframe tbody tr th:only-of-type {\n",
       "        vertical-align: middle;\n",
       "    }\n",
       "\n",
       "    .dataframe tbody tr th {\n",
       "        vertical-align: top;\n",
       "    }\n",
       "\n",
       "    .dataframe thead th {\n",
       "        text-align: right;\n",
       "    }\n",
       "</style>\n",
       "<table border=\"1\" class=\"dataframe\">\n",
       "  <thead>\n",
       "    <tr style=\"text-align: right;\">\n",
       "      <th></th>\n",
       "      <th>review_id</th>\n",
       "      <th>star_rating</th>\n",
       "      <th>helpful_votes</th>\n",
       "      <th>total_votes</th>\n",
       "      <th>vine</th>\n",
       "      <th>verified_purchase</th>\n",
       "    </tr>\n",
       "  </thead>\n",
       "  <tbody>\n",
       "    <tr>\n",
       "      <th>270</th>\n",
       "      <td>R2VIQ3UX794Q0O</td>\n",
       "      <td>4.0</td>\n",
       "      <td>21.0</td>\n",
       "      <td>21.0</td>\n",
       "      <td>N</td>\n",
       "      <td>Y</td>\n",
       "    </tr>\n",
       "    <tr>\n",
       "      <th>427</th>\n",
       "      <td>R1OA24IIHWF54G</td>\n",
       "      <td>5.0</td>\n",
       "      <td>43.0</td>\n",
       "      <td>45.0</td>\n",
       "      <td>N</td>\n",
       "      <td>Y</td>\n",
       "    </tr>\n",
       "    <tr>\n",
       "      <th>503</th>\n",
       "      <td>RJ7N3OOJR9RL0</td>\n",
       "      <td>4.0</td>\n",
       "      <td>63.0</td>\n",
       "      <td>71.0</td>\n",
       "      <td>N</td>\n",
       "      <td>Y</td>\n",
       "    </tr>\n",
       "    <tr>\n",
       "      <th>520</th>\n",
       "      <td>R1W8778CBXSRU6</td>\n",
       "      <td>5.0</td>\n",
       "      <td>28.0</td>\n",
       "      <td>29.0</td>\n",
       "      <td>N</td>\n",
       "      <td>Y</td>\n",
       "    </tr>\n",
       "    <tr>\n",
       "      <th>621</th>\n",
       "      <td>R2EFAM03SWLIJX</td>\n",
       "      <td>1.0</td>\n",
       "      <td>32.0</td>\n",
       "      <td>35.0</td>\n",
       "      <td>N</td>\n",
       "      <td>Y</td>\n",
       "    </tr>\n",
       "  </tbody>\n",
       "</table>\n",
       "</div>"
      ],
      "text/plain": [
       "          review_id  star_rating  helpful_votes  total_votes vine  \\\n",
       "270  R2VIQ3UX794Q0O          4.0           21.0         21.0    N   \n",
       "427  R1OA24IIHWF54G          5.0           43.0         45.0    N   \n",
       "503   RJ7N3OOJR9RL0          4.0           63.0         71.0    N   \n",
       "520  R1W8778CBXSRU6          5.0           28.0         29.0    N   \n",
       "621  R2EFAM03SWLIJX          1.0           32.0         35.0    N   \n",
       "\n",
       "    verified_purchase  \n",
       "270                 Y  \n",
       "427                 Y  \n",
       "503                 Y  \n",
       "520                 Y  \n",
       "621                 Y  "
      ]
     },
     "execution_count": 7,
     "metadata": {},
     "output_type": "execute_result"
    }
   ],
   "source": [
    "#filter df to show reviews with over 20 total votes\n",
    "twentyvotes_vine_df = vine_df[vine_df['total_votes'] >= 20]\n",
    "twentyvotes_vine_df.head()"
   ]
  },
  {
   "cell_type": "code",
   "execution_count": 8,
   "id": "91235a38",
   "metadata": {},
   "outputs": [
    {
     "data": {
      "text/html": [
       "<div>\n",
       "<style scoped>\n",
       "    .dataframe tbody tr th:only-of-type {\n",
       "        vertical-align: middle;\n",
       "    }\n",
       "\n",
       "    .dataframe tbody tr th {\n",
       "        vertical-align: top;\n",
       "    }\n",
       "\n",
       "    .dataframe thead th {\n",
       "        text-align: right;\n",
       "    }\n",
       "</style>\n",
       "<table border=\"1\" class=\"dataframe\">\n",
       "  <thead>\n",
       "    <tr style=\"text-align: right;\">\n",
       "      <th></th>\n",
       "      <th>review_id</th>\n",
       "      <th>star_rating</th>\n",
       "      <th>helpful_votes</th>\n",
       "      <th>total_votes</th>\n",
       "      <th>vine</th>\n",
       "      <th>verified_purchase</th>\n",
       "    </tr>\n",
       "  </thead>\n",
       "  <tbody>\n",
       "    <tr>\n",
       "      <th>270</th>\n",
       "      <td>R2VIQ3UX794Q0O</td>\n",
       "      <td>4.0</td>\n",
       "      <td>21.0</td>\n",
       "      <td>21.0</td>\n",
       "      <td>N</td>\n",
       "      <td>Y</td>\n",
       "    </tr>\n",
       "    <tr>\n",
       "      <th>427</th>\n",
       "      <td>R1OA24IIHWF54G</td>\n",
       "      <td>5.0</td>\n",
       "      <td>43.0</td>\n",
       "      <td>45.0</td>\n",
       "      <td>N</td>\n",
       "      <td>Y</td>\n",
       "    </tr>\n",
       "    <tr>\n",
       "      <th>503</th>\n",
       "      <td>RJ7N3OOJR9RL0</td>\n",
       "      <td>4.0</td>\n",
       "      <td>63.0</td>\n",
       "      <td>71.0</td>\n",
       "      <td>N</td>\n",
       "      <td>Y</td>\n",
       "    </tr>\n",
       "    <tr>\n",
       "      <th>520</th>\n",
       "      <td>R1W8778CBXSRU6</td>\n",
       "      <td>5.0</td>\n",
       "      <td>28.0</td>\n",
       "      <td>29.0</td>\n",
       "      <td>N</td>\n",
       "      <td>Y</td>\n",
       "    </tr>\n",
       "    <tr>\n",
       "      <th>621</th>\n",
       "      <td>R2EFAM03SWLIJX</td>\n",
       "      <td>1.0</td>\n",
       "      <td>32.0</td>\n",
       "      <td>35.0</td>\n",
       "      <td>N</td>\n",
       "      <td>Y</td>\n",
       "    </tr>\n",
       "  </tbody>\n",
       "</table>\n",
       "</div>"
      ],
      "text/plain": [
       "          review_id  star_rating  helpful_votes  total_votes vine  \\\n",
       "270  R2VIQ3UX794Q0O          4.0           21.0         21.0    N   \n",
       "427  R1OA24IIHWF54G          5.0           43.0         45.0    N   \n",
       "503   RJ7N3OOJR9RL0          4.0           63.0         71.0    N   \n",
       "520  R1W8778CBXSRU6          5.0           28.0         29.0    N   \n",
       "621  R2EFAM03SWLIJX          1.0           32.0         35.0    N   \n",
       "\n",
       "    verified_purchase  \n",
       "270                 Y  \n",
       "427                 Y  \n",
       "503                 Y  \n",
       "520                 Y  \n",
       "621                 Y  "
      ]
     },
     "execution_count": 8,
     "metadata": {},
     "output_type": "execute_result"
    }
   ],
   "source": [
    "# filter df to show reviews where over 50% are helpful\n",
    "helpful_vine_df = twentyvotes_vine_df.loc[twentyvotes_vine_df.helpful_votes / twentyvotes_vine_df.total_votes >= 0.5]\n",
    "helpful_vine_df.head()"
   ]
  },
  {
   "cell_type": "markdown",
   "id": "02306e8b",
   "metadata": {},
   "source": [
    "Vine Paid Reviews - 5-Star and Average Ratings"
   ]
  },
  {
   "cell_type": "code",
   "execution_count": 9,
   "id": "26b0fde9",
   "metadata": {},
   "outputs": [
    {
     "data": {
      "text/plain": [
       "266"
      ]
     },
     "execution_count": 9,
     "metadata": {},
     "output_type": "execute_result"
    }
   ],
   "source": [
    "# filter to only show total reviews that were paid by vine program\n",
    "vine_reviews = helpful_vine_df[helpful_vine_df['vine'] == 'Y']\n",
    "# vine_reviews.head()\n",
    "\n",
    "count_vine = len(vine_reviews)\n",
    "count_vine"
   ]
  },
  {
   "cell_type": "code",
   "execution_count": 10,
   "id": "f081a16a",
   "metadata": {},
   "outputs": [
    {
     "data": {
      "text/plain": [
       "125"
      ]
     },
     "execution_count": 10,
     "metadata": {},
     "output_type": "execute_result"
    }
   ],
   "source": [
    "# total 5 star paid vine reviews \n",
    "five_rating_vine = len(vine_reviews[vine_reviews['star_rating']==5])\n",
    "five_rating_vine"
   ]
  },
  {
   "cell_type": "code",
   "execution_count": 11,
   "id": "e1756880",
   "metadata": {},
   "outputs": [
    {
     "data": {
      "text/plain": [
       "46.99248120300752"
      ]
     },
     "execution_count": 11,
     "metadata": {},
     "output_type": "execute_result"
    }
   ],
   "source": [
    "# percentage of VINE 5 star reviews / total helpful reviews\n",
    "five_rating_vine / count_vine * 100"
   ]
  },
  {
   "cell_type": "code",
   "execution_count": 12,
   "id": "b5a949c7",
   "metadata": {},
   "outputs": [
    {
     "data": {
      "text/plain": [
       "4.12"
      ]
     },
     "execution_count": 12,
     "metadata": {},
     "output_type": "execute_result"
    }
   ],
   "source": [
    "# average rating of vine reviews \n",
    "round(vine_reviews['star_rating'].mean(),2)"
   ]
  },
  {
   "cell_type": "code",
   "execution_count": 13,
   "id": "fc4cd17b",
   "metadata": {},
   "outputs": [
    {
     "data": {
      "text/plain": [
       "29.32330827067669"
      ]
     },
     "execution_count": 13,
     "metadata": {},
     "output_type": "execute_result"
    }
   ],
   "source": [
    "# total 4 star paid vine reviews \n",
    "four_rating_vine = len(vine_reviews[vine_reviews['star_rating']==4])\n",
    "four_rating_vine / count_vine * 100"
   ]
  },
  {
   "cell_type": "code",
   "execution_count": 14,
   "id": "24848f21",
   "metadata": {},
   "outputs": [
    {
     "data": {
      "text/plain": [
       "2.631578947368421"
      ]
     },
     "execution_count": 14,
     "metadata": {},
     "output_type": "execute_result"
    }
   ],
   "source": [
    "# total 1 star paid vine reviews \n",
    "one_rating_vine = len(vine_reviews[vine_reviews['star_rating']==1])\n",
    "one_rating_vine / count_vine * 100"
   ]
  },
  {
   "cell_type": "markdown",
   "id": "d65c9d3c",
   "metadata": {},
   "source": [
    "Unpaid Reviews (non-vine) - 5-Star and Average Ratings"
   ]
  },
  {
   "cell_type": "code",
   "execution_count": 15,
   "id": "491c1814",
   "metadata": {},
   "outputs": [
    {
     "data": {
      "text/plain": [
       "38829"
      ]
     },
     "execution_count": 15,
     "metadata": {},
     "output_type": "execute_result"
    }
   ],
   "source": [
    "# filter to only show total reviews that were NOT paid by vine program\n",
    "nonvine_reviews = helpful_vine_df[helpful_vine_df['vine'] == 'N']\n",
    "# vine_reviews.head()\n",
    "\n",
    "count_nonvine = len(nonvine_reviews)\n",
    "count_nonvine"
   ]
  },
  {
   "cell_type": "code",
   "execution_count": 16,
   "id": "01116c04",
   "metadata": {},
   "outputs": [
    {
     "data": {
      "text/plain": [
       "18246"
      ]
     },
     "execution_count": 16,
     "metadata": {},
     "output_type": "execute_result"
    }
   ],
   "source": [
    "# total 5 star nonpaid vine reviews \n",
    "five_rating_nonvine = len(nonvine_reviews[nonvine_reviews['star_rating']==5])\n",
    "five_rating_nonvine"
   ]
  },
  {
   "cell_type": "code",
   "execution_count": 17,
   "id": "b59a0fd4",
   "metadata": {},
   "outputs": [
    {
     "data": {
      "text/plain": [
       "46.99065131731438"
      ]
     },
     "execution_count": 17,
     "metadata": {},
     "output_type": "execute_result"
    }
   ],
   "source": [
    "# percentage of NONvine 5 star reviews / total helpful reviews\n",
    "five_rating_nonvine / count_nonvine * 100"
   ]
  },
  {
   "cell_type": "code",
   "execution_count": 18,
   "id": "ae040464",
   "metadata": {},
   "outputs": [
    {
     "data": {
      "text/plain": [
       "3.61"
      ]
     },
     "execution_count": 18,
     "metadata": {},
     "output_type": "execute_result"
    }
   ],
   "source": [
    "# average rating of NONvine reviews \n",
    "round(nonvine_reviews['star_rating'].mean(),2)"
   ]
  },
  {
   "cell_type": "code",
   "execution_count": 19,
   "id": "70c3111f",
   "metadata": {},
   "outputs": [
    {
     "data": {
      "text/plain": [
       "15.941693064462129"
      ]
     },
     "execution_count": 19,
     "metadata": {},
     "output_type": "execute_result"
    }
   ],
   "source": [
    "# total 4 star paid NONvine reviews \n",
    "four_rating_nonvine = len(nonvine_reviews[nonvine_reviews['star_rating']==4])\n",
    "four_rating_nonvine / count_nonvine * 100"
   ]
  },
  {
   "cell_type": "code",
   "execution_count": 20,
   "id": "e6b2e8f2",
   "metadata": {},
   "outputs": [
    {
     "data": {
      "text/plain": [
       "21.254732287723094"
      ]
     },
     "execution_count": 20,
     "metadata": {},
     "output_type": "execute_result"
    }
   ],
   "source": [
    "# total 1 star paid NONvine reviews \n",
    "one_rating_nonvine = len(nonvine_reviews[nonvine_reviews['star_rating']==1])\n",
    "one_rating_nonvine / count_nonvine * 100"
   ]
  },
  {
   "cell_type": "code",
   "execution_count": null,
   "id": "26e79f72",
   "metadata": {},
   "outputs": [],
   "source": []
  }
 ],
 "metadata": {
  "kernelspec": {
   "display_name": "Python 3 (ipykernel)",
   "language": "python",
   "name": "python3"
  },
  "language_info": {
   "codemirror_mode": {
    "name": "ipython",
    "version": 3
   },
   "file_extension": ".py",
   "mimetype": "text/x-python",
   "name": "python",
   "nbconvert_exporter": "python",
   "pygments_lexer": "ipython3",
   "version": "3.9.7"
  }
 },
 "nbformat": 4,
 "nbformat_minor": 5
}
